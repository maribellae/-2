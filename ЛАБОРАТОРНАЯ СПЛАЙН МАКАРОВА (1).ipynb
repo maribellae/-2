{
 "cells": [
  {
   "cell_type": "markdown",
   "metadata": {},
   "source": [
    "# Лабораторная Сплайн Макарова"
   ]
  },
  {
   "cell_type": "code",
   "execution_count": 50,
   "metadata": {},
   "outputs": [],
   "source": [
    "import numpy as np\n",
    "import decimal\n",
    "%matplotlib inline\n",
    "import matplotlib.pyplot as plt\n",
    "import pylab\n",
    "from sympy import diff, symbols, cos, sin, exp , ln, sqrt\n",
    "from sympy import *\n",
    "x, y = symbols('x y')"
   ]
  },
  {
   "cell_type": "code",
   "execution_count": 221,
   "metadata": {},
   "outputs": [],
   "source": [
    "b1=[0]*9\n",
    "b2=[0]*8\n",
    "b3=[0]*7\n",
    "b4=[0]*6\n",
    "b5=[0]*5\n",
    "b6=[0]*4\n",
    "b7=[0]*3\n",
    "b8=[0]*2\n",
    "b9=[0]\n",
    "a=[1910,1920,1930,1940,1950,1960,1970,1980,1990,2000]\n",
    "b=[92228496, 106021537,123202624,132164569,151325798,179323175,203211926,226545805,248709873,281421906]\n",
    "res=[281421906,0,0,0,0,0,0,0,0,0]\n"
   ]
  },
  {
   "cell_type": "markdown",
   "metadata": {},
   "source": [
    "Рассчитаю разделенные разности:"
   ]
  },
  {
   "cell_type": "code",
   "execution_count": 222,
   "metadata": {},
   "outputs": [
    {
     "name": "stdout",
     "output_type": "stream",
     "text": [
      "1379304.1\n",
      "1718108.7\n",
      "896194.5\n",
      "1916122.9\n",
      "2799737.7\n",
      "2388875.1\n",
      "2333387.9\n",
      "2216406.8\n",
      "3271203.3\n"
     ]
    }
   ],
   "source": [
    "for i in range(9):\n",
    "    b1[i] = (b[i+1]-b[i])/(a[i+1]-a[i])\n",
    "    print(b1[i])\n",
    "res[1] = b1[8]   "
   ]
  },
  {
   "cell_type": "code",
   "execution_count": 223,
   "metadata": {},
   "outputs": [
    {
     "name": "stdout",
     "output_type": "stream",
     "text": [
      "16940.229999999992\n",
      "-41095.71\n",
      "50996.42\n",
      "44180.74000000001\n",
      "-20543.130000000005\n",
      "-2774.360000000009\n",
      "-5849.055000000005\n",
      "52739.825\n"
     ]
    }
   ],
   "source": [
    "for i in range(8):\n",
    "    b2[i] = (b1[i+1]-b1[i])/(a[i+2]-a[i])\n",
    "    print(b2[i])\n",
    "    \n",
    "res[2] = b2[7] "
   ]
  },
  {
   "cell_type": "code",
   "execution_count": 224,
   "metadata": {},
   "outputs": [
    {
     "name": "stdout",
     "output_type": "stream",
     "text": [
      "-1934.531333333333\n",
      "3069.737666666667\n",
      "-227.18933333333285\n",
      "-2157.462333333334\n",
      "592.2923333333332\n",
      "-102.48983333333318\n",
      "1952.9626666666668\n"
     ]
    }
   ],
   "source": [
    "for i in range(7):\n",
    "    b3[i] = (b2[i+1]-b2[i])/(a[i+3]-a[i])\n",
    "    print(b3[i])\n",
    "res[3] = b3[6]    "
   ]
  },
  {
   "cell_type": "code",
   "execution_count": 225,
   "metadata": {},
   "outputs": [
    {
     "name": "stdout",
     "output_type": "stream",
     "text": [
      "125.10673\n",
      "-82.42317\n",
      "-48.25683\n",
      "68.74387\n",
      "-17.36955\n",
      "51.38631\n"
     ]
    }
   ],
   "source": [
    "for i in range(6):\n",
    "    b4[i] = (b3[i+1]-b3[i])/(a[i+4]-a[i])\n",
    "    print(format(b4[i], '.5f'))\n",
    "res[4] = b4[5]  "
   ]
  },
  {
   "cell_type": "code",
   "execution_count": 226,
   "metadata": {},
   "outputs": [
    {
     "name": "stdout",
     "output_type": "stream",
     "text": [
      "-4.15060\n",
      "0.68333\n",
      "2.34001\n",
      "-1.72227\n",
      "1.37512\n"
     ]
    }
   ],
   "source": [
    "for i in range(5):\n",
    "    b5[i] = (b4[i+1]-b4[i])/(a[i+5]-a[i])\n",
    "    print(format(b5[i], '.5f'))\n",
    "res[5] = b5[4]  \n"
   ]
  },
  {
   "cell_type": "code",
   "execution_count": 227,
   "metadata": {},
   "outputs": [
    {
     "name": "stdout",
     "output_type": "stream",
     "text": [
      "0.08057\n",
      "0.02761\n",
      "-0.06770\n",
      "0.05162\n"
     ]
    }
   ],
   "source": [
    "for i in range(4):\n",
    "    b6[i] = (b5[i+1]-b5[i])/(a[i+6]-a[i])\n",
    "    print(format(b6[i], '.5f'))\n",
    "res[6] = b6[3]  "
   ]
  },
  {
   "cell_type": "code",
   "execution_count": 228,
   "metadata": {},
   "outputs": [
    {
     "name": "stdout",
     "output_type": "stream",
     "text": [
      "-0.00076\n",
      "-0.00136\n",
      "0.00170\n"
     ]
    }
   ],
   "source": [
    "for i in range(3):\n",
    "    b7[i] = (b6[i+1]-b6[i])/(a[i+7]-a[i])\n",
    "    print(format(b7[i], '.5f'))\n",
    "res[7] = b7[2]  "
   ]
  },
  {
   "cell_type": "code",
   "execution_count": 229,
   "metadata": {},
   "outputs": [
    {
     "name": "stdout",
     "output_type": "stream",
     "text": [
      "-0.00001\n",
      "0.00004\n"
     ]
    }
   ],
   "source": [
    "for i in range(2):\n",
    "    b8[i] = (b7[i+1]-b7[i])/(a[i+8]-a[i])\n",
    "    print(format(b8[i], '.5f'))\n",
    "res[8] = b8[1]  "
   ]
  },
  {
   "cell_type": "code",
   "execution_count": 230,
   "metadata": {},
   "outputs": [
    {
     "name": "stdout",
     "output_type": "stream",
     "text": [
      "0.00000\n"
     ]
    }
   ],
   "source": [
    "for i in range(1):\n",
    "    b9[i] = (b8[i+1]-b8[i])/(a[i+9]-a[i])\n",
    "    print(format(b9[i], '.5f'))\n",
    "res[9] = b9[0]  "
   ]
  },
  {
   "cell_type": "markdown",
   "metadata": {},
   "source": [
    "Выпишу коэффициенты для построения полинома Ньютона:"
   ]
  },
  {
   "cell_type": "code",
   "execution_count": 231,
   "metadata": {},
   "outputs": [
    {
     "data": {
      "text/plain": [
       "[281421906,\n",
       " 3271203.3,\n",
       " 52739.825,\n",
       " 1952.9626666666668,\n",
       " 51.386312499999995,\n",
       " 1.3751173333333333,\n",
       " 0.051623095833333334,\n",
       " 0.0017046828571428572,\n",
       " 3.832927703373017e-05,\n",
       " 5.099328042328045e-07]"
      ]
     },
     "execution_count": 231,
     "metadata": {},
     "output_type": "execute_result"
    }
   ],
   "source": [
    "res"
   ]
  },
  {
   "cell_type": "code",
   "execution_count": 209,
   "metadata": {},
   "outputs": [],
   "source": [
    "#Полином Ньютона\n",
    "def ff(x):\n",
    "    return(res[0] + res[1]*(x-a[9]) + res[2]*(x-a[9])*(x-a[8])+ res[3]*(x-a[9])*(x-a[8])*(x-a[7])+res[4]*(x-a[9])*(x-a[8])*(x-a[7])*(x-a[6]) + res[5]*(x-a[9])*(x-a[8])*(x-a[7])*(x-a[6])*(x-a[5]) + res[6]*(x-a[9])*(x-a[8])*(x-a[7])*(x-a[6])*(x-a[5])*(x-a[4]) + res[7]*(x-a[9])*(x-a[8])*(x-a[7])*(x-a[6])*(x-a[5])*(x-a[4])*(x-a[3])+ res[8]*(x-a[9])*(x-a[8])*(x-a[7])*(x-a[6])*(x-a[5])*(x-a[4])*(x-a[3])*(x-a[2]) + res[9] *(x-a[9])*(x-a[8])*(x-a[7])*(x-a[6])*(x-a[5])*(x-a[4])*(x-a[3])*(x-a[2])*(x-a[1]) )"
   ]
  },
  {
   "cell_type": "code",
   "execution_count": 210,
   "metadata": {},
   "outputs": [
    {
     "data": {
      "text/plain": [
       "827906509.0000001"
      ]
     },
     "execution_count": 210,
     "metadata": {},
     "output_type": "execute_result"
    }
   ],
   "source": [
    "ff(2010)"
   ]
  },
  {
   "cell_type": "markdown",
   "metadata": {},
   "source": [
    "Вывод: очень плохо соответствует действительности. Попробую построить сплайн."
   ]
  },
  {
   "cell_type": "code",
   "execution_count": 232,
   "metadata": {},
   "outputs": [],
   "source": [
    "import numpy as np"
   ]
  },
  {
   "cell_type": "code",
   "execution_count": 233,
   "metadata": {},
   "outputs": [
    {
     "data": {
      "text/plain": [
       "array([[ 1.,  0.,  0.,  0.,  0.,  0.,  0.,  0.,  0.,  0.],\n",
       "       [10., 40., 10.,  0.,  0.,  0.,  0.,  0.,  0.,  0.],\n",
       "       [ 0., 10., 40., 10.,  0.,  0.,  0.,  0.,  0.,  0.],\n",
       "       [ 0.,  0., 10., 40., 10.,  0.,  0.,  0.,  0.,  0.],\n",
       "       [ 0.,  0.,  0., 10., 40., 10.,  0.,  0.,  0.,  0.],\n",
       "       [ 0.,  0.,  0.,  0., 10., 40., 10.,  0.,  0.,  0.],\n",
       "       [ 0.,  0.,  0.,  0.,  0., 10., 40., 10.,  0.,  0.],\n",
       "       [ 0.,  0.,  0.,  0.,  0.,  0., 10., 40., 10.,  0.],\n",
       "       [ 0.,  0.,  0.,  0.,  0.,  0.,  0., 10., 40., 10.],\n",
       "       [ 0.,  0.,  0.,  0.,  0.,  0.,  0.,  0.,  0.,  1.]])"
      ]
     },
     "execution_count": 233,
     "metadata": {},
     "output_type": "execute_result"
    }
   ],
   "source": [
    "A= np.zeros((10, 10))\n",
    "A[0,0]=1\n",
    "A [9,9] = 1\n",
    "for i in range(8):\n",
    "    A[i+1,i] = 10\n",
    "    A[i+1,i+1] = 40\n",
    "    A[i+1,i+2] = 10\n",
    "A    "
   ]
  },
  {
   "cell_type": "code",
   "execution_count": 234,
   "metadata": {},
   "outputs": [
    {
     "data": {
      "text/plain": [
       "array([       0. ,  1016413.8, -2465742.6,  3059785.2,  2650844.4,\n",
       "       -1232587.8,  -166461.6,  -350943.3,  3164389.5,        0. ])"
      ]
     },
     "execution_count": 234,
     "metadata": {},
     "output_type": "execute_result"
    }
   ],
   "source": [
    "B = np.zeros(10)\n",
    "for i in range(8):\n",
    "    B[i+1]=3*(b[i+2] - 2 *  b[i+1] + b[i])/10\n",
    "B"
   ]
  },
  {
   "cell_type": "code",
   "execution_count": 235,
   "metadata": {},
   "outputs": [],
   "source": [
    "C=np.linalg. solve(A, B)"
   ]
  },
  {
   "cell_type": "code",
   "execution_count": 236,
   "metadata": {},
   "outputs": [
    {
     "data": {
      "text/plain": [
       "array([-2.44472176e-10,  4.92825405e+04, -9.54887821e+04,  8.60983278e+04,\n",
       "        5.70739910e+04, -4.93098519e+04,  1.69066366e+04, -3.49628544e+04,\n",
       "        8.78504511e+04,  0.00000000e+00])"
      ]
     },
     "execution_count": 236,
     "metadata": {},
     "output_type": "execute_result"
    }
   ],
   "source": [
    "C"
   ]
  },
  {
   "cell_type": "code",
   "execution_count": 241,
   "metadata": {},
   "outputs": [],
   "source": [
    "a=[1910,1920,1930,1940,1950,1960,1970,1980,1990,2000]\n",
    "b=[92228496, 106021537,123202624,132164569,151325798,179323175,203211926,226545805,248709873,281421906]\n",
    "def F(x):  \n",
    "    i=0\n",
    "    if ((x>=2000)&(x<2011)):\n",
    "        i=8\n",
    "    if (((x<2000)&(x>=1990))):\n",
    "        i=8\n",
    "    if (((x<1990)&(x>=1980))):\n",
    "        i=7\n",
    "    if (((x<1980)&(x>=1970))):\n",
    "        i=6\n",
    "    if (((x<1970)&(x>=1960))):\n",
    "        i=5        \n",
    "    if (((x<1960)&(x>=1950))):\n",
    "        i=4\n",
    "    if (((x<1950)&(x>=1940))):\n",
    "        i=3\n",
    "    if (((x<1940)&(x>=1930))):\n",
    "        i=2\n",
    "    if (((x<1930)&(x>=1920))):\n",
    "        i=1    \n",
    "    m = ((b[i+1] - b[i])/10 -C[i+1]*(10/3)-C[i]*(20/3))* (x - a[i]) + b [ i] + C[i]* (x - a[i])**2 + (C[i+1]-C[i])/30*(x- a[i])**3  \n",
    "    return(m)\n",
    "\n"
   ]
  },
  {
   "cell_type": "code",
   "execution_count": 242,
   "metadata": {},
   "outputs": [
    {
     "data": {
      "image/png": "[encoded data removed]",
      "text/plain": [
       "<Figure size 432x288 with 1 Axes>"
      ]
     },
     "metadata": {
      "needs_background": "light"
     },
     "output_type": "display_data"
    }
   ],
   "source": [
    "\n",
    "import math\n",
    "import matplotlib.pyplot as plt\n",
    "\n",
    "y = np.vectorize(F, otypes=[float])\n",
    "\n",
    "t = linspace(1910,2010, 20)\n",
    "plt.xlabel(r'$YEAR$', fontsize=14)\n",
    "plt.ylabel(r'$POPULATION$', fontsize=14)\n",
    "plt.grid(True)\n",
    "\n",
    "plt.plot(t, y(t), 'b') \n",
    "\n",
    "\n",
    "plt.show()"
   ]
  },
  {
   "cell_type": "markdown",
   "metadata": {},
   "source": [
    "Рассчитаем население США к 2010 году:"
   ]
  },
  {
   "cell_type": "code",
   "execution_count": 243,
   "metadata": {},
   "outputs": [
    {
     "data": {
      "text/plain": [
       "314133939.0"
      ]
     },
     "execution_count": 243,
     "metadata": {},
     "output_type": "execute_result"
    }
   ],
   "source": [
    "F(2010)"
   ]
  },
  {
   "cell_type": "markdown",
   "metadata": {},
   "source": [
    "Вывод : очень неплохо соответствует реальной картине ( статистика нам сообщает о населении в 308745538 человек в 2010 году)"
   ]
  },
  {
   "cell_type": "markdown",
   "metadata": {},
   "source": [
    "Все :)"
   ]
  }
 ],
 "metadata": {
  "kernelspec": {
   "display_name": "Python 3",
   "language": "python",
   "name": "python3"
  },
  "language_info": {
   "codemirror_mode": {
    "name": "ipython",
    "version": 3
   },
   "file_extension": ".py",
   "mimetype": "text/x-python",
   "name": "python",
   "nbconvert_exporter": "python",
   "pygments_lexer": "ipython3",
   "version": "3.8.5"
  }
 },
 "nbformat": 4,
 "nbformat_minor": 4
}
