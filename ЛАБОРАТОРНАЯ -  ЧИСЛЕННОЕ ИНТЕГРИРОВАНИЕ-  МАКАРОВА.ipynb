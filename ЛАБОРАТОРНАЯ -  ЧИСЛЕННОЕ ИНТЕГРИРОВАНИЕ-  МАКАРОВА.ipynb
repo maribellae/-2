{
 "cells": [
  {
   "cell_type": "markdown",
   "metadata": {},
   "source": [
    "#   VII.9.5. д)  МАКАРОВА МАРИЯ "
   ]
  },
  {
   "cell_type": "code",
   "execution_count": 40,
   "metadata": {},
   "outputs": [],
   "source": [
    "import numpy as np\n",
    "import decimal\n",
    "%matplotlib inline\n",
    "import matplotlib.pyplot as plt\n",
    "import pylab\n",
    "from sympy import diff, symbols, cos, sin, exp , ln, sqrt\n",
    "from sympy import *\n",
    "x, y = symbols('x y')"
   ]
  },
  {
   "cell_type": "markdown",
   "metadata": {},
   "source": [
    "Задаю узлы :"
   ]
  },
  {
   "cell_type": "code",
   "execution_count": 41,
   "metadata": {},
   "outputs": [],
   "source": [
    "a = [0 ,0.125, 0.25, 0.375 , 0.5 , 0.625 , 0.75 , 0.875, 1]\n",
    "b = [0.000000,  0.124670, 0.247234, 0.364902 ,0.473112, 0.563209, 0.616193, 0.579699, 0.000000 ]\n"
   ]
  },
  {
   "cell_type": "markdown",
   "metadata": {},
   "source": [
    "Вычисляю интеграл методом трапеций с шагом h = 0.125 :"
   ]
  },
  {
   "cell_type": "code",
   "execution_count": 42,
   "metadata": {},
   "outputs": [
    {
     "name": "stdout",
     "output_type": "stream",
     "text": [
      "0.371127\n"
     ]
    }
   ],
   "source": [
    "I1=0\n",
    "h = 0.125\n",
    "i=1\n",
    "while (i<9):\n",
    "    I1 = I1 + (h/2)*(b[i-1] + 2 * b[i] + b[i+1])\n",
    "    i = i+2\n",
    "    \n",
    "print(format(I1,\".6f\"))      "
   ]
  },
  {
   "cell_type": "markdown",
   "metadata": {},
   "source": [
    "Вычисляю интеграл методом трапеций с шагом 2h = 0.25 :"
   ]
  },
  {
   "cell_type": "code",
   "execution_count": 43,
   "metadata": {},
   "outputs": [
    {
     "name": "stdout",
     "output_type": "stream",
     "text": [
      "0.334135\n"
     ]
    }
   ],
   "source": [
    "I2 = 0\n",
    "i=1\n",
    "while (i<9):\n",
    "    I2 = I2 + (h)*(b[i-1] + b[i+1])\n",
    "    i = i+2\n",
    "print(format(I2,\".6f\"))  "
   ]
  },
  {
   "cell_type": "markdown",
   "metadata": {},
   "source": [
    "Сделаю уточнение результата экстраполяцией Ричардсона :"
   ]
  },
  {
   "cell_type": "code",
   "execution_count": 44,
   "metadata": {},
   "outputs": [
    {
     "name": "stdout",
     "output_type": "stream",
     "text": [
      "0.383458\n"
     ]
    }
   ],
   "source": [
    "I4 = I1 + ( I1 - I2) / 3\n",
    "print(format(I4,\".6f\"))  "
   ]
  },
  {
   "cell_type": "markdown",
   "metadata": {},
   "source": [
    "Вычисляю интеграл по методу Симпсона :"
   ]
  },
  {
   "cell_type": "code",
   "execution_count": 45,
   "metadata": {},
   "outputs": [
    {
     "name": "stdout",
     "output_type": "stream",
     "text": [
      "0.383458\n"
     ]
    }
   ],
   "source": [
    "I3 = 0\n",
    "i=1\n",
    "while (i<9):\n",
    "    I3 = I3 + (h/3)*(b[i-1] + 4*b[i] + b[i+1])\n",
    "    i = i+2\n",
    "print(format(I3,\".6f\"))      "
   ]
  },
  {
   "cell_type": "markdown",
   "metadata": {},
   "source": [
    "Вывод: значение интеграла, вычисленного методом Симпсона, совпало со значением интеграла, вычисленного методом трапеций и уточненного экстраполяцией Ричардсона."
   ]
  },
  {
   "cell_type": "code",
   "execution_count": null,
   "metadata": {},
   "outputs": [],
   "source": []
  }
 ],
 "metadata": {
  "kernelspec": {
   "display_name": "Python 3",
   "language": "python",
   "name": "python3"
  },
  "language_info": {
   "codemirror_mode": {
    "name": "ipython",
    "version": 3
   },
   "file_extension": ".py",
   "mimetype": "text/x-python",
   "name": "python",
   "nbconvert_exporter": "python",
   "pygments_lexer": "ipython3",
   "version": "3.8.5"
  }
 },
 "nbformat": 4,
 "nbformat_minor": 4
}
