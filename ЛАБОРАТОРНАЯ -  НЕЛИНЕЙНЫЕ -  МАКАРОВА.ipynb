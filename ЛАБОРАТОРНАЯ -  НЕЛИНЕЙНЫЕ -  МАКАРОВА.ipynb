{
 "cells": [
  {
   "cell_type": "markdown",
   "metadata": {},
   "source": [
    "# IV.12.8. e)  МАКАРОВА МАРИЯ "
   ]
  },
  {
   "cell_type": "code",
   "execution_count": 7,
   "metadata": {},
   "outputs": [],
   "source": [
    "import numpy as np\n",
    "%matplotlib inline\n",
    "import matplotlib.pyplot as plt\n",
    "import pylab\n",
    "from sympy import diff, symbols, cos, sin, exp , ln, sqrt\n",
    "from sympy import *\n",
    "x, y = symbols('x y')\n"
   ]
  },
  {
   "cell_type": "code",
   "execution_count": 77,
   "metadata": {},
   "outputs": [],
   "source": [
    "def f(x):\n",
    "    m = sqrt(x)*exp(-x)\n",
    "    return(m)   \n"
   ]
  },
  {
   "cell_type": "code",
   "execution_count": 21,
   "metadata": {},
   "outputs": [
    {
     "data": {
      "text/latex": [
       "$\\displaystyle - \\sqrt{x} e^{- x} + \\frac{e^{- x}}{2 \\sqrt{x}}$"
      ],
      "text/plain": [
       "-sqrt(x)*exp(-x) + exp(-x)/(2*sqrt(x))"
      ]
     },
     "execution_count": 21,
     "metadata": {},
     "output_type": "execute_result"
    }
   ],
   "source": [
    "y=sqrt(x)*exp(-x)\n",
    "\n",
    "dif_text=y.diff(x)\n",
    "\n",
    "dif_text\n",
    "#производная"
   ]
  },
  {
   "cell_type": "code",
   "execution_count": 16,
   "metadata": {},
   "outputs": [
    {
     "data": {
      "text/plain": [
       "[1/2]"
      ]
     },
     "execution_count": 16,
     "metadata": {},
     "output_type": "execute_result"
    }
   ],
   "source": [
    "          \n",
    "k=solve(dif)\n",
    "#нуль производной "
   ]
  },
  {
   "cell_type": "code",
   "execution_count": 70,
   "metadata": {},
   "outputs": [
    {
     "data": {
      "text/latex": [
       "$\\displaystyle -6.73384303554051 \\cdot 10^{-17}$"
      ],
      "text/plain": [
       "-6.73384303554051e-17"
      ]
     },
     "execution_count": 70,
     "metadata": {},
     "output_type": "execute_result"
    }
   ],
   "source": [
    "def dif(x):\n",
    "    d= exp(-x)*(-sqrt(x)+1/(sqrt(4*x)))\n",
    "    return(d) \n",
    "half = dif(1/2) \n",
    "half\n",
    "#полувысота"
   ]
  },
  {
   "cell_type": "markdown",
   "metadata": {},
   "source": [
    "Функция  sqrt(x)^exp(-x) = −6.73384303554051⋅10−17\n",
    "\n",
    "    Для левого и правого корня возьму разные функции для итераций.\n",
    "    g1 = (exp(-1+2x))/ 8      <---- производная меньше 1 при х < 1.193, поэтому эта функция для поиска левого корня\n",
    "    g2 = ln(sqrt(8 * e * x))  <---- производная меньше 1 при х > 0.5 , поэтому эта функция для поиска правого корня"
   ]
  },
  {
   "cell_type": "code",
   "execution_count": 71,
   "metadata": {},
   "outputs": [],
   "source": [
    "def g1(x):\n",
    "    t =(exp(-1+2*x))/ 8\n",
    "    return(t)\n",
    "\n",
    "def g2(x):\n",
    "    t= ln(sqrt(8 * exp(1) * x))\n",
    "    return(t)\n",
    "\n",
    "def q (x0,x1,x2):\n",
    "    q1 = abs((x2 - x1)/(x1-x0))\n",
    "    return(q1)\n",
    "def eps(x1,x2,q):\n",
    "    e = (abs(x2-x1))/(1-q)\n",
    "    return(e)"
   ]
  },
  {
   "cell_type": "code",
   "execution_count": 73,
   "metadata": {},
   "outputs": [
    {
     "name": "stdout",
     "output_type": "stream",
     "text": [
      "Эпсилон :\n",
      "0.3750\n",
      "1 -тая итерация\n",
      " \n",
      "Эпсилон :\n",
      "0.0660\n",
      "2 -тая итерация\n",
      " \n",
      "Эпсилон :\n",
      "0.0073\n",
      "3 -тая итерация\n",
      " \n",
      "Эпсилон :\n",
      "0.0007\n",
      "4 -тая итерация\n",
      " \n",
      " \n",
      "Итоговое эпсилон :\n",
      "0.0007\n",
      " \n",
      " \n",
      "x1 = 0.051\n"
     ]
    }
   ],
   "source": [
    "w1=1/2\n",
    "w0 = p = 1000000\n",
    "i = 0\n",
    "epss = 1000000000\n",
    "while(epss>=0.001):\n",
    "    w2 = g1(w1)\n",
    "    \n",
    "    if(i>0):\n",
    "        qq = q(w0,w1,w2)\n",
    "        epss = eps(w1,w2,qq)\n",
    "        print (\"Эпсилон :\")  \n",
    "        print(round(epss,4))\n",
    "        w1=p\n",
    "        w1=w2\n",
    "        w0=p\n",
    "       \n",
    "        print( i , \"-тая итерация\")\n",
    "        print(\" \")  \n",
    "    i = i+1    \n",
    "print(\" \")    \n",
    "print (\"Итоговое эпсилон :\")    \n",
    "print(round(epss,4))\n",
    "print(\" \") \n",
    "www1 = round(w2,3)\n",
    "print(\" \")    \n",
    "print (\"x1 =\", www1)  \n",
    "\n",
    "    "
   ]
  },
  {
   "cell_type": "code",
   "execution_count": 74,
   "metadata": {},
   "outputs": [
    {
     "name": "stdout",
     "output_type": "stream",
     "text": [
      "Эпсилон :\n",
      "0.6931\n",
      "1 -тая итерация\n",
      " \n",
      "Эпсилон :\n",
      "0.4349\n",
      "2 -тая итерация\n",
      " \n",
      "Эпсилон :\n",
      "0.1554\n",
      "3 -тая итерация\n",
      " \n",
      "Эпсилон :\n",
      "0.0456\n",
      "4 -тая итерация\n",
      " \n",
      "Эпсилон :\n",
      "0.0126\n",
      "5 -тая итерация\n",
      " \n",
      "Эпсилон :\n",
      "0.0034\n",
      "6 -тая итерация\n",
      " \n",
      "Эпсилон :\n",
      "0.0009\n",
      "7 -тая итерация\n",
      " \n",
      " \n",
      "Итоговое эпсилон :\n",
      "0.0009\n",
      " \n",
      " \n",
      "x2 = 1.846\n"
     ]
    }
   ],
   "source": [
    "w1=1/2\n",
    "w0 = p = 1000000\n",
    "i = 0\n",
    "epss = 1000000000\n",
    "while(epss>=0.001):\n",
    "    w2 = g2(w1)\n",
    "    \n",
    "    if(i>0):\n",
    "        qq = q(w0,w1,w2)\n",
    "        epss = eps(w1,w2,qq)\n",
    "        print (\"Эпсилон :\")  \n",
    "        print(round(epss,4))\n",
    "        w1=p\n",
    "        w1=w2\n",
    "        w0=p\n",
    "       \n",
    "        print( i , \"-тая итерация\")\n",
    "        print(\" \")  \n",
    "    i = i+1    \n",
    "print(\" \")    \n",
    "print (\"Итоговое эпсилон :\")    \n",
    "print(round(epss,4))\n",
    "print(\" \") \n",
    "www2 = round(w2,3)\n",
    "print(\" \")    \n",
    "print (\"x2 =\", www2)  "
   ]
  },
  {
   "cell_type": "code",
   "execution_count": 75,
   "metadata": {},
   "outputs": [
    {
     "name": "stdout",
     "output_type": "stream",
     "text": [
      "Определенная методом простой итерации ширина функции на полувысоте с точностью 10^3: 1.795\n"
     ]
    }
   ],
   "source": [
    " print ( \"Определенная методом простой итерации ширина функции на полувысоте с точностью 10^3:\" , www2-www1)"
   ]
  }
 ],
 "metadata": {
  "kernelspec": {
   "display_name": "Python 3",
   "language": "python",
   "name": "python3"
  },
  "language_info": {
   "codemirror_mode": {
    "name": "ipython",
    "version": 3
   },
   "file_extension": ".py",
   "mimetype": "text/x-python",
   "name": "python",
   "nbconvert_exporter": "python",
   "pygments_lexer": "ipython3",
   "version": "3.8.5"
  }
 },
 "nbformat": 4,
 "nbformat_minor": 4
}
