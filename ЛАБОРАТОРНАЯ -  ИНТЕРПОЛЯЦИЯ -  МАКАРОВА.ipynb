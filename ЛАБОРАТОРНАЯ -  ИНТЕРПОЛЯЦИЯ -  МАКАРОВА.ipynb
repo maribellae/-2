{
 "cells": [
  {
   "cell_type": "markdown",
   "metadata": {},
   "source": [
    " # VI.9.2. e)  МАКАРОВА МАРИЯ "
   ]
  },
  {
   "cell_type": "code",
   "execution_count": 113,
   "metadata": {},
   "outputs": [],
   "source": [
    "import numpy as np\n",
    "import decimal\n",
    "%matplotlib inline\n",
    "import matplotlib.pyplot as plt\n",
    "import pylab\n",
    "from sympy import diff, symbols, cos, sin, exp , ln, sqrt\n",
    "from sympy import *\n",
    "x, y = symbols('x y')"
   ]
  },
  {
   "cell_type": "code",
   "execution_count": 114,
   "metadata": {},
   "outputs": [],
   "source": [
    "b1=[0,0,0,0]\n",
    "b2=[0,0,0]\n",
    "b3=[0,0]\n",
    "b4=[0]\n",
    "a=[0,2,3,5,7]\n",
    "b=[-1,0,2,3,5]\n",
    "res=[-1,0,0,0,0]"
   ]
  },
  {
   "cell_type": "code",
   "execution_count": 115,
   "metadata": {},
   "outputs": [
    {
     "name": "stdout",
     "output_type": "stream",
     "text": [
      "0.5\n",
      "2.0\n",
      "0.5\n",
      "1.0\n"
     ]
    }
   ],
   "source": [
    "for i in range(4):\n",
    "    b1[i] = (b[i+1]-b[i])/(a[i+1]-a[i])\n",
    "    print(b1[i])\n",
    "res[1] = b1[0]   "
   ]
  },
  {
   "cell_type": "code",
   "execution_count": 116,
   "metadata": {},
   "outputs": [
    {
     "name": "stdout",
     "output_type": "stream",
     "text": [
      "0.5\n",
      "-0.5\n",
      "0.125\n"
     ]
    }
   ],
   "source": [
    "for i in range(3):\n",
    "    b2[i] = (b1[i+1]-b1[i])/(a[i+2]-a[i])\n",
    "    print(b2[i])\n",
    "    \n",
    "res[2] = b2[0] "
   ]
  },
  {
   "cell_type": "code",
   "execution_count": 117,
   "metadata": {},
   "outputs": [
    {
     "name": "stdout",
     "output_type": "stream",
     "text": [
      "-0.2\n",
      "0.125\n"
     ]
    }
   ],
   "source": [
    "for i in range(2):\n",
    "    b3[i] = (b2[i+1]-b2[i])/(a[i+3]-a[i])\n",
    "    print(b3[i])\n",
    "res[3] = b3[0]    "
   ]
  },
  {
   "cell_type": "code",
   "execution_count": 118,
   "metadata": {},
   "outputs": [
    {
     "name": "stdout",
     "output_type": "stream",
     "text": [
      "0.04643\n"
     ]
    }
   ],
   "source": [
    "for i in range(1):\n",
    "    b4[i] = (b3[i+1]-b3[i])/(a[i+4]-a[i])\n",
    "    print(format(b4[i], '.5f'))\n",
    "res[4] = b4[0]     "
   ]
  },
  {
   "cell_type": "code",
   "execution_count": 119,
   "metadata": {},
   "outputs": [
    {
     "data": {
      "text/plain": [
       "[-1, 0.5, 0.5, -0.2, 0.04642857142857143]"
      ]
     },
     "execution_count": 119,
     "metadata": {},
     "output_type": "execute_result"
    }
   ],
   "source": [
    "res"
   ]
  },
  {
   "cell_type": "code",
   "execution_count": 120,
   "metadata": {},
   "outputs": [
    {
     "data": {
      "text/plain": [
       "1.6214285715188126"
      ]
     },
     "execution_count": 120,
     "metadata": {},
     "output_type": "execute_result"
    }
   ],
   "source": [
    "from scipy.misc import derivative\n",
    "def ff(x):\n",
    "    return(res[0] + res[1]*(x-a[0]) + res[2]*(x-a[0])*(x-a[1])+ res[3]*(x-a[0])*(x-a[1])*(x-a[2])+res[4]*(x-a[0])*(x-a[1])*(x-a[2])*(x-a[3]))\n",
    "derivative(ff, 3.0, dx=1e-6)"
   ]
  },
  {
   "cell_type": "markdown",
   "metadata": {},
   "source": [
    "Конец :)"
   ]
  }
 ],
 "metadata": {
  "kernelspec": {
   "display_name": "Python 3",
   "language": "python",
   "name": "python3"
  },
  "language_info": {
   "codemirror_mode": {
    "name": "ipython",
    "version": 3
   },
   "file_extension": ".py",
   "mimetype": "text/x-python",
   "name": "python",
   "nbconvert_exporter": "python",
   "pygments_lexer": "ipython3",
   "version": "3.8.5"
  }
 },
 "nbformat": 4,
 "nbformat_minor": 4
}
